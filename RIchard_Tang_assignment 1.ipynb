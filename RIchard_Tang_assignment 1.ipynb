{
 "cells": [
  {
   "cell_type": "markdown",
   "id": "45a258d9",
   "metadata": {},
   "source": [
    "Section 1.2\n",
    "\n",
    "Question 2: Computer memory is called RAM because (A) its bytes can be addressed in random order\n",
    "\n",
    "Question 3: The hard drive had 240 times the storage space of the PC's RAM \n",
    "\n",
    "Question 4: There can be 4 different values encoded in 2 bits, 8 different values encoded in 3 bits and 256 different values encoded in 1 byte of data"
   ]
  },
  {
   "cell_type": "markdown",
   "id": "a52199be",
   "metadata": {},
   "source": [
    "Section 1.3\n",
    "\n",
    "Question 1: Redundancy is defined as any computer code that is uncessary or not required to achieve the same results. An example would be to create a method that adds two numbers\n",
    "\n",
    "def sum(x,y):\n",
    "    return x + y\n",
    "\n",
    "This is not necessary as Python has built-in arithmetic operators such as \"+\" that can achieve the same effect"
   ]
  },
  {
   "cell_type": "code",
   "execution_count": 2,
   "id": "37844bb2",
   "metadata": {},
   "outputs": [
    {
     "name": "stdout",
     "output_type": "stream",
     "text": [
      "16\n"
     ]
    }
   ],
   "source": [
    "# Question 4\n",
    "# the ** operator raises a value x to a power of n\n",
    "x = 2\n",
    "n = 4\n",
    "print(x**n)"
   ]
  },
  {
   "cell_type": "code",
   "execution_count": 6,
   "id": "931c0112",
   "metadata": {},
   "outputs": [
    {
     "name": "stdout",
     "output_type": "stream",
     "text": [
      "lalalalalalalalalala\n"
     ]
    }
   ],
   "source": [
    "# Question 6\n",
    "# the * operator can be applied to the string. Python will repeatedly print the string x times\n",
    "x = 10\n",
    "string = \"la\"\n",
    "print(x * string)"
   ]
  },
  {
   "cell_type": "code",
   "execution_count": 9,
   "id": "5425ed97",
   "metadata": {},
   "outputs": [
    {
     "name": "stdout",
     "output_type": "stream",
     "text": [
      "1000\n",
      "21212\n",
      "1\n",
      "0.0\n",
      "1\n"
     ]
    }
   ],
   "source": [
    "# Question 8\n",
    "# the % operator is the modulus operator which is used to find the remainder after applying division\n",
    "print(999 + 1 % 5) #Modulus goes first\n",
    "print(21213 - 1000 % 3) #Modulus goes first\n",
    "print(10 * 10 % 3) #Left to right\n",
    "print(999/3%3) #Left to right\n",
    "print(12121**0%5) #Left to right"
   ]
  },
  {
   "cell_type": "markdown",
   "id": "f43d73fb",
   "metadata": {},
   "source": [
    "Section 1.3"
   ]
  },
  {
   "cell_type": "code",
   "execution_count": 11,
   "id": "4d9e7407",
   "metadata": {},
   "outputs": [],
   "source": [
    "import this\n",
    "\n",
    "#did not expect this to be this (pun very much intended)"
   ]
  }
 ],
 "metadata": {
  "kernelspec": {
   "display_name": "Python 3 (ipykernel)",
   "language": "python",
   "name": "python3"
  },
  "language_info": {
   "codemirror_mode": {
    "name": "ipython",
    "version": 3
   },
   "file_extension": ".py",
   "mimetype": "text/x-python",
   "name": "python",
   "nbconvert_exporter": "python",
   "pygments_lexer": "ipython3",
   "version": "3.9.13"
  }
 },
 "nbformat": 4,
 "nbformat_minor": 5
}
