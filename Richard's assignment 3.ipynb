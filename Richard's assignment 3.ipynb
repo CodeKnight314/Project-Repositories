{
 "cells": [
  {
   "cell_type": "code",
   "execution_count": 6,
   "id": "bfd2703a",
   "metadata": {},
   "outputs": [
    {
     "name": "stdout",
     "output_type": "stream",
     "text": [
      "6\n",
      "2\n",
      "0\n"
     ]
    }
   ],
   "source": [
    "\"\"\"\n",
    "Question #1\n",
    "\n",
    "\n",
    "Given 3 int values, a b c, return their sum. However, if one of the values is the same as another of the values, it does not count towards the sum.\n",
    "\n",
    "\n",
    "lone_sum(1, 2, 3) → 6\n",
    "lone_sum(3, 2, 3) → 2\n",
    "lone_sum(3, 3, 3) → 0\n",
    "\n",
    "\"\"\"\n",
    "\n",
    "def lone_sum(a, b, c):\n",
    "    if a == b and b == c:\n",
    "        return 0\n",
    "    lst = [a,b,c]\n",
    "    new_lst = []\n",
    "    for i in lst:\n",
    "        if i not in new_lst:\n",
    "            new_lst.append(i)\n",
    "        else:\n",
    "            new_lst.pop(new_lst.index(i))\n",
    "    return sum(new_lst)\n",
    "        \n",
    "print(lone_sum(1, 2, 3))\n",
    "print(lone_sum(3, 2, 3))\n",
    "print(lone_sum(3, 3, 3))"
   ]
  },
  {
   "cell_type": "code",
   "execution_count": 12,
   "id": "de7ab694",
   "metadata": {},
   "outputs": [
    {
     "name": "stdout",
     "output_type": "stream",
     "text": [
      "6\n",
      "3\n",
      "1\n"
     ]
    }
   ],
   "source": [
    "\"\"\"\n",
    "Question #2\n",
    "\n",
    "Given 3 int values, a b c, return their sum. However, if one of the values is 13 then it does not count towards the sum and values to its right do not count. So for example, if b is 13, then both b and c do not count.\n",
    "\n",
    "\n",
    "lucky_sum(1, 2, 3) → 6\n",
    "lucky_sum(1, 2, 13) → 3\n",
    "lucky_sum(1, 13, 3) → 1\n",
    "\n",
    "\"\"\"\n",
    "\n",
    "def lucky_sum(a,b,c):\n",
    "    lst = [a,b,c]\n",
    "    for x in lst:\n",
    "        if x == 13:\n",
    "            if lst.index(x) != len(lst)-1:\n",
    "                lst.pop(lst.index(x)+1)\n",
    "            lst.pop(lst.index(x))\n",
    "    return sum(lst)\n",
    "\n",
    "print(lucky_sum(1, 2, 3))\n",
    "print(lucky_sum(1, 2, 13)) \n",
    "print(lucky_sum(1, 13, 3))"
   ]
  },
  {
   "cell_type": "code",
   "execution_count": 20,
   "id": "9ea111c9",
   "metadata": {},
   "outputs": [
    {
     "name": "stdout",
     "output_type": "stream",
     "text": [
      "1\n",
      "0 1\n",
      "1 0 1\n",
      "0 1 0 1\n",
      "1 0 1 0 1\n",
      "0 1 0 1 0 1\n",
      "1 0 1 0 1 0 1\n",
      "0 1 0 1 0 1 0 1\n",
      "1 0 1 0 1 0 1 0 1\n",
      "0 1 0 1 0 1 0 1 0 1\n",
      "1 0 1 0 1 0 1 0 1 0 1\n",
      "0 1 0 1 0 1 0 1 0 1 0 1\n",
      "1 0 1 0 1 0 1 0 1 0 1 0 1\n",
      "0 1 0 1 0 1 0 1 0 1 0 1 0 1\n",
      "1 0 1 0 1 0 1 0 1 0 1 0 1 0 1\n",
      "0 1 0 1 0 1 0 1 0 1 0 1 0 1 0 1\n",
      "1 0 1 0 1 0 1 0 1 0 1 0 1 0 1 0 1\n",
      "0 1 0 1 0 1 0 1 0 1 0 1 0 1 0 1 0 1\n",
      "1 0 1 0 1 0 1 0 1 0 1 0 1 0 1 0 1 0 1\n",
      "0 1 0 1 0 1 0 1 0 1 0 1 0 1 0 1 0 1 0 1\n",
      "1 0 1 0 1 0 1 0 1 0 1 0 1 0 1 0 1 0 1 0 1\n",
      "0 1 0 1 0 1 0 1 0 1 0 1 0 1 0 1 0 1 0 1 0 1\n",
      "1 0 1 0 1 0 1 0 1 0 1 0 1 0 1 0 1 0 1 0 1 0 1\n",
      "0 1 0 1 0 1 0 1 0 1 0 1 0 1 0 1 0 1 0 1 0 1 0 1\n",
      "1 0 1 0 1 0 1 0 1 0 1 0 1 0 1 0 1 0 1 0 1 0 1 0 1\n",
      "0 1 0 1 0 1 0 1 0 1 0 1 0 1 0 1 0 1 0 1 0 1 0 1 0 1\n",
      "1 0 1 0 1 0 1 0 1 0 1 0 1 0 1 0 1 0 1 0 1 0 1 0 1 0 1\n",
      "0 1 0 1 0 1 0 1 0 1 0 1 0 1 0 1 0 1 0 1 0 1 0 1 0 1 0 1\n",
      "1 0 1 0 1 0 1 0 1 0 1 0 1 0 1 0 1 0 1 0 1 0 1 0 1 0 1 0 1\n",
      "0 1 0 1 0 1 0 1 0 1 0 1 0 1 0 1 0 1 0 1 0 1 0 1 0 1 0 1 0 1\n",
      "1 0 1 0 1 0 1 0 1 0 1 0 1 0 1 0 1 0 1 0 1 0 1 0 1 0 1 0 1 0 1\n",
      "0 1 0 1 0 1 0 1 0 1 0 1 0 1 0 1 0 1 0 1 0 1 0 1 0 1 0 1 0 1 0 1\n",
      "1 0 1 0 1 0 1 0 1 0 1 0 1 0 1 0 1 0 1 0 1 0 1 0 1 0 1 0 1 0 1 0 1\n",
      "0 1 0 1 0 1 0 1 0 1 0 1 0 1 0 1 0 1 0 1 0 1 0 1 0 1 0 1 0 1 0 1 0 1\n",
      "1 0 1 0 1 0 1 0 1 0 1 0 1 0 1 0 1 0 1 0 1 0 1 0 1 0 1 0 1 0 1 0 1 0 1\n",
      "0 1 0 1 0 1 0 1 0 1 0 1 0 1 0 1 0 1 0 1 0 1 0 1 0 1 0 1 0 1 0 1 0 1 0 1\n",
      "1 0 1 0 1 0 1 0 1 0 1 0 1 0 1 0 1 0 1 0 1 0 1 0 1 0 1 0 1 0 1 0 1 0 1 0 1\n",
      "0 1 0 1 0 1 0 1 0 1 0 1 0 1 0 1 0 1 0 1 0 1 0 1 0 1 0 1 0 1 0 1 0 1 0 1 0 1\n",
      "1 0 1 0 1 0 1 0 1 0 1 0 1 0 1 0 1 0 1 0 1 0 1 0 1 0 1 0 1 0 1 0 1 0 1 0 1 0 1\n",
      "0 1 0 1 0 1 0 1 0 1 0 1 0 1 0 1 0 1 0 1 0 1 0 1 0 1 0 1 0 1 0 1 0 1 0 1 0 1 0 1\n",
      "1 0 1 0 1 0 1 0 1 0 1 0 1 0 1 0 1 0 1 0 1 0 1 0 1 0 1 0 1 0 1 0 1 0 1 0 1 0 1 0 1\n",
      "0 1 0 1 0 1 0 1 0 1 0 1 0 1 0 1 0 1 0 1 0 1 0 1 0 1 0 1 0 1 0 1 0 1 0 1 0 1 0 1 0 1\n",
      "1 0 1 0 1 0 1 0 1 0 1 0 1 0 1 0 1 0 1 0 1 0 1 0 1 0 1 0 1 0 1 0 1 0 1 0 1 0 1 0 1 0 1\n",
      "0 1 0 1 0 1 0 1 0 1 0 1 0 1 0 1 0 1 0 1 0 1 0 1 0 1 0 1 0 1 0 1 0 1 0 1 0 1 0 1 0 1 0 1\n",
      "1 0 1 0 1 0 1 0 1 0 1 0 1 0 1 0 1 0 1 0 1 0 1 0 1 0 1 0 1 0 1 0 1 0 1 0 1 0 1 0 1 0 1 0 1\n",
      "0 1 0 1 0 1 0 1 0 1 0 1 0 1 0 1 0 1 0 1 0 1 0 1 0 1 0 1 0 1 0 1 0 1 0 1 0 1 0 1 0 1 0 1 0 1\n",
      "1 0 1 0 1 0 1 0 1 0 1 0 1 0 1 0 1 0 1 0 1 0 1 0 1 0 1 0 1 0 1 0 1 0 1 0 1 0 1 0 1 0 1 0 1 0 1\n",
      "0 1 0 1 0 1 0 1 0 1 0 1 0 1 0 1 0 1 0 1 0 1 0 1 0 1 0 1 0 1 0 1 0 1 0 1 0 1 0 1 0 1 0 1 0 1 0 1\n",
      "1 0 1 0 1 0 1 0 1 0 1 0 1 0 1 0 1 0 1 0 1 0 1 0 1 0 1 0 1 0 1 0 1 0 1 0 1 0 1 0 1 0 1 0 1 0 1 0 1\n",
      "0 1 0 1 0 1 0 1 0 1 0 1 0 1 0 1 0 1 0 1 0 1 0 1 0 1 0 1 0 1 0 1 0 1 0 1 0 1 0 1 0 1 0 1 0 1 0 1 0 1\n"
     ]
    }
   ],
   "source": [
    "\"\"\"\n",
    "Question #3\n",
    "\n",
    "Print the following pattern using loops:\n",
    "\n",
    "1\n",
    "0 1\n",
    "1 0 1\n",
    "0 1 0 1\n",
    "1 0 1 0 1\n",
    "\n",
    "#I'm assuming the last line was a typo and should've been 10101\n",
    "\"\"\"\n",
    "\n",
    "def triangle(level):\n",
    "    for i in range(0, level):\n",
    "        row_i = []\n",
    "        for j in range(0, i+1):\n",
    "            if(i + j) % 2 == 1:\n",
    "                row_i.append(\"0\")\n",
    "            else:\n",
    "                row_i.append(\"1\")\n",
    "        print(\" \".join(row_i))\n",
    "triangle(50)"
   ]
  },
  {
   "cell_type": "code",
   "execution_count": 25,
   "id": "c025713c",
   "metadata": {},
   "outputs": [
    {
     "name": "stdout",
     "output_type": "stream",
     "text": [
      "     *****\n",
      "    *****\n",
      "   *****\n",
      "  *****\n",
      " *****\n"
     ]
    }
   ],
   "source": [
    "\"\"\"\n",
    "Question #4\n",
    "\n",
    "Print the following pattern using loops:\n",
    "\n",
    "     *****\n",
    "    *****\n",
    "   *****\n",
    "  *****\n",
    " *****\n",
    " \n",
    "\"\"\"\n",
    "\n",
    "def weird_shape(number_of_stars_per_level):\n",
    "    for i in range(0,number_of_stars_per_level):\n",
    "        row_i = []\n",
    "        for j in range(0, number_of_stars_per_level - i):\n",
    "            row_i.append(\" \")\n",
    "        for z in range(0, number_of_stars_per_level):\n",
    "            row_i.append(\"*\")\n",
    "        print(\"\".join(row_i))\n",
    "weird_shape(5)"
   ]
  },
  {
   "cell_type": "code",
   "execution_count": 26,
   "id": "cede8855",
   "metadata": {},
   "outputs": [
    {
     "name": "stdout",
     "output_type": "stream",
     "text": [
      "0 3\n"
     ]
    }
   ],
   "source": [
    "\"\"\"\n",
    "\n",
    "Question #5\n",
    "\n",
    "given_list = [10,22,105,14]\n",
    "\n",
    "target_product = 140\n",
    "\n",
    "Use loops to print the pair of indices for which the mutliplication of \n",
    "thier values gives the target_product.\n",
    "\n",
    "\"\"\"\n",
    "\n",
    "given_list = [10,22,105,14]\n",
    "\n",
    "target_product = 140\n",
    "\n",
    "for i in range(len(given_list)):\n",
    "    for j in range(i, len(given_list)):\n",
    "        if given_list[i] * given_list[j] == target_product:\n",
    "            print(i, j)"
   ]
  },
  {
   "cell_type": "code",
   "execution_count": 33,
   "id": "19852ca0",
   "metadata": {},
   "outputs": [
    {
     "name": "stdout",
     "output_type": "stream",
     "text": [
      "True\n",
      "False\n"
     ]
    }
   ],
   "source": [
    "\"\"\"\n",
    "\n",
    "Question #6\n",
    "\n",
    "Write a function that checks for a list being a palindrome and returns True or False\n",
    "based on that assesment. \n",
    "\n",
    "Contraints:\n",
    "1: You should use either for/while loop and any list method\n",
    "2: You cannot use slicing or indexing (no use of [::-1])\n",
    "3: you cannot use .reverse method\n",
    "\n",
    "\"\"\"\n",
    "\n",
    "#Assumes the length of the list is even\n",
    "\n",
    "def palindrome_function(lst):\n",
    "    if len(lst) % 2 != 0:\n",
    "        print(\"LENGTH IS NOT EVEN\")\n",
    "        return False\n",
    "    lo = 0\n",
    "    hi = len(lst) - 1\n",
    "    while(lo < hi):\n",
    "        if(lst[lo] != lst [hi]):\n",
    "            return False\n",
    "        lo+=1\n",
    "        hi-=1\n",
    "    return True\n",
    "print(palindrome_function([3,1,2,2,1,3]))\n",
    "print(palindrome_function([0,1,2,2,1,3]))"
   ]
  },
  {
   "cell_type": "code",
   "execution_count": 41,
   "id": "0ab4681e",
   "metadata": {},
   "outputs": [
    {
     "name": "stdout",
     "output_type": "stream",
     "text": [
      "[5, 15, 25, 50]\n"
     ]
    }
   ],
   "source": [
    "\"\"\"\n",
    "\n",
    "Question #7\n",
    "\n",
    "Write a function to remove all occurrences of a specific item from a list.\n",
    "\n",
    "sample def statement:\n",
    "\n",
    "def remove_element(given_list,element)\n",
    "\n",
    "\n",
    "Sample ouput:\n",
    "\n",
    "given_list = [5, 20, 15, 20, 25, 50, 20], element = 20\n",
    "\n",
    "Expected output:\n",
    "\n",
    "print(remove_element([5,20,15,20,25,50,20],20))\n",
    "[5, 15, 25, 50]\n",
    "\n",
    "\"\"\"\n",
    "\n",
    "def remove_element(given_list, element):\n",
    "    for x in range(len(given_list)-1,0,-1):\n",
    "        if given_list[x] == element:\n",
    "            given_list.pop(x)\n",
    "    return given_list\n",
    "print(remove_element([5,20,15,20,25,50,20],20))\n"
   ]
  }
 ],
 "metadata": {
  "kernelspec": {
   "display_name": "Python 3 (ipykernel)",
   "language": "python",
   "name": "python3"
  },
  "language_info": {
   "codemirror_mode": {
    "name": "ipython",
    "version": 3
   },
   "file_extension": ".py",
   "mimetype": "text/x-python",
   "name": "python",
   "nbconvert_exporter": "python",
   "pygments_lexer": "ipython3",
   "version": "3.9.13"
  }
 },
 "nbformat": 4,
 "nbformat_minor": 5
}
