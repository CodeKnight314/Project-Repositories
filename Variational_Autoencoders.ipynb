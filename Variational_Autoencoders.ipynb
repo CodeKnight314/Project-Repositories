{
  "nbformat": 4,
  "nbformat_minor": 0,
  "metadata": {
    "colab": {
      "provenance": []
    },
    "kernelspec": {
      "name": "python3",
      "display_name": "Python 3"
    },
    "language_info": {
      "name": "python"
    }
  },
  "cells": [
    {
      "cell_type": "code",
      "execution_count": null,
      "metadata": {
        "id": "AtScfsgMJa_z"
      },
      "outputs": [],
      "source": [
        "!pip install torch_snippets"
      ]
    },
    {
      "cell_type": "code",
      "source": [
        "from torch_snippets import *\n",
        "import torch\n",
        "import torch.nn as nn \n",
        "import torch.nn.functional as F\n",
        "import torch.optim as optim\n",
        "from torch.utils.data import Dataset, DataLoader\n",
        "from torchvision import transforms, datasets\n",
        "from torchvision.utils import make_grid\n",
        "\n",
        "device = 'cuda' if torch.cuda.is_available() else 'cpu'"
      ],
      "metadata": {
        "id": "WYLz9kkZJgGg"
      },
      "execution_count": null,
      "outputs": []
    },
    {
      "cell_type": "code",
      "source": [
        "tr_ds = datasets.MNIST(root = '/content/',train = True, transform = transforms.ToTensor(), download = True)\n",
        "vl_ds = datasets.MNIST(root = '/content/',train = False, transform = transforms.ToTensor(), download = True)\n",
        "tr_dl = DataLoader(tr_ds,batch_size = 64, shuffle = True, drop_last = True)\n",
        "vl_dl = DataLoader(vl_ds,batch_size = 64, shuffle = True, drop_last = True)"
      ],
      "metadata": {
        "id": "-B8JsWApMYIL"
      },
      "execution_count": null,
      "outputs": []
    },
    {
      "cell_type": "code",
      "source": [
        "class VAE(nn.Module):\n",
        "  def __init__(self, x_dim, h_dim1, h_dim2, z_dim):\n",
        "    super().__init__()\n",
        "    self.d1 = nn.Linear(x_dim, h_dim1)\n",
        "    self.d2 = nn.Linear(h_dim1, h_dim2)\n",
        "    self.d31 = nn.Linear(h_dim2, z_dim)\n",
        "    self.d32 = nn.Linear(h_dim2, z_dim)\n",
        "    self.d4 = nn.Linear(z_dim, h_dim2)\n",
        "    self.d5 = nn.Linear(h_dim2, h_dim1)\n",
        "    self.d6 = nn.Linear(h_dim1, x_dim)\n",
        "  \n",
        "  def encoder(self, x):\n",
        "    h = F.relu(self.d1(x))\n",
        "    h = F.relu(self.d2(h))\n",
        "    return self.d31(h), self.d32(h)\n",
        "  \n",
        "  def decoder(self, x):\n",
        "    h = F.relu(self.d4(x))\n",
        "    h = F.relu(self.d5(h))\n",
        "    return F.sigmoid(self.d6(h))\n",
        "  \n",
        "  def sampling(self, mean, log_var):\n",
        "    std = torch.exp(0.5*log_var)\n",
        "    eps = torch.randn_like(std)\n",
        "    return eps.mul(std).add_(mean)\n",
        "  \n",
        "  def forward(self, x):\n",
        "    mean, log_var = self.encoder(x.view(-1, 784))\n",
        "    z = self.sampling(mean, log_var)\n",
        "    return self.decoder(z), mean, log_var"
      ],
      "metadata": {
        "id": "l0WpBCerM-vt"
      },
      "execution_count": null,
      "outputs": []
    },
    {
      "cell_type": "code",
      "source": [
        "def train_batch(data, model, optimizer, loss_function):\n",
        "    model.train()\n",
        "    data = data.to(device)\n",
        "    optimizer.zero_grad()\n",
        "    recon_batch, mean, log_var = model(data)\n",
        "    loss, mse, kld = loss_function(recon_batch, data, mean, log_var)\n",
        "    loss.backward()\n",
        "    optimizer.step()\n",
        "    return loss, mse, kld, log_var.mean(), mean.mean()\n",
        "\n",
        "def validate_batch(data, model, loss_function):\n",
        "    model.eval()\n",
        "    data = data.to(device)\n",
        "    recon, mean, log_var = model(data)\n",
        "    loss, mse, kld = loss_function(recon, data, mean, log_var)\n",
        "    return loss, mse, kld, log_var.mean(), mean.mean()\n",
        "    \n",
        "def loss_function(recon_x, x, mean, log_var):\n",
        "    RECON = F.mse_loss(recon_x, x.view(-1, 784), reduction='sum')\n",
        "    KLD = -0.5 * torch.sum(1 + log_var - mean.pow(2) - log_var.exp())\n",
        "    return RECON + KLD, RECON, KLD"
      ],
      "metadata": {
        "id": "qTrlwUpNRKIk"
      },
      "execution_count": null,
      "outputs": []
    },
    {
      "cell_type": "code",
      "source": [
        "vae = VAE(x_dim=784, h_dim1=512, h_dim2=256, z_dim=50).to(device)\n",
        "optimizer = optim.AdamW(vae.parameters(), lr=1e-3)\n",
        "n_epochs = 5\n",
        "log = Report(n_epochs)\n",
        "for epoch in range(n_epochs):\n",
        "    N = len(tr_dl)\n",
        "    for batch_idx, (data, _) in enumerate(tr_dl):\n",
        "        loss, recon, kld, log_var, mean = train_batch(data, vae, optimizer, loss_function)\n",
        "        pos = epoch + (1+batch_idx)/N\n",
        "        log.record(pos, train_loss=loss, train_kld=kld, train_recon=recon,train_log_var=log_var, train_mean=mean, end='\\r')\n",
        "    N = len(vl_dl)\n",
        "    for batch_idx, (data, _) in enumerate(vl_dl):\n",
        "        loss, recon, kld,log_var,mean = validate_batch(data, vae, loss_function)\n",
        "        pos = epoch + (1+batch_idx)/N\n",
        "        log.record(pos, val_loss=loss, val_kld=kld, val_recon=recon, val_log_var=log_var, val_mean=mean, end='\\r')\n",
        "    log.report_avgs(epoch+1)\n",
        "\n",
        "log.plot_epochs(['train_loss','val_loss'])"
      ],
      "metadata": {
        "id": "l0Uq7G8-RV5u"
      },
      "execution_count": null,
      "outputs": []
    },
    {
      "cell_type": "code",
      "source": [
        "with torch.no_grad():\n",
        "  z = torch.randn(64, 50).to(device)\n",
        "  sample = vae.decoder(z).to(device)\n",
        "  images = make_grid(sample.view(64, 1, 28, 28)).permute(1,2,0)\n",
        "  show(images)"
      ],
      "metadata": {
        "id": "WDrmJubKreA2"
      },
      "execution_count": null,
      "outputs": []
    }
  ]
}